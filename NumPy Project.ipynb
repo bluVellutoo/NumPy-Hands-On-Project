{
 "cells": [
  {
   "cell_type": "code",
   "execution_count": 5,
   "id": "24ecf474-dfd8-46f7-b993-1d71b8947346",
   "metadata": {},
   "outputs": [],
   "source": [
    "import numpy as np"
   ]
  },
  {
   "cell_type": "code",
   "execution_count": 9,
   "id": "057bccae-dcaf-4cec-8860-5a7243d1d20f",
   "metadata": {},
   "outputs": [
    {
     "data": {
      "text/plain": [
       "array([ 0.        ,  0.71428571,  1.42857143,  2.14285714,  2.85714286,\n",
       "        3.57142857,  4.28571429,  5.        ,  5.71428571,  6.42857143,\n",
       "        7.14285714,  7.85714286,  8.57142857,  9.28571429, 10.        ])"
      ]
     },
     "execution_count": 9,
     "metadata": {},
     "output_type": "execute_result"
    }
   ],
   "source": [
    "# Create an array of 15 equally spaced float numbers from 0 to 10\n",
    "arr = np.linspace(0, 10, 15)\n",
    "arr"
   ]
  },
  {
   "cell_type": "code",
   "execution_count": 15,
   "id": "b25f32b1-e0ef-49ba-8981-ddfd6228ad0d",
   "metadata": {},
   "outputs": [
    {
     "data": {
      "text/plain": [
       "array([[[ 1.1,  2.1,  3.1],\n",
       "        [ 4.1,  5.1,  6.1]],\n",
       "\n",
       "       [[ 7.1,  8.1,  9.1],\n",
       "        [10.1, 11.1, 12.1]]])"
      ]
     },
     "execution_count": 15,
     "metadata": {},
     "output_type": "execute_result"
    }
   ],
   "source": [
    "# Define the four arrays\n",
    "arr1 = [1.1, 2.1, 3.1]\n",
    "arr2 = [4.1, 5.1, 6.1]\n",
    "arr3 = [7.1, 8.1, 9.1]\n",
    "arr4 = [10.1, 11.1, 12.1]\n",
    "\n",
    "# Combine them into a 3D array with shape (2, 2, 3)\n",
    "array_3d = np.array([\n",
    "    [arr1, arr2],\n",
    "    [arr3, arr4]\n",
    "])\n",
    "array_3d"
   ]
  },
  {
   "cell_type": "code",
   "execution_count": 43,
   "id": "eaea7f0f-5cba-41cc-817a-453cfda314e0",
   "metadata": {},
   "outputs": [
    {
     "name": "stdout",
     "output_type": "stream",
     "text": [
      "Array Type is: <class 'numpy.ndarray'>\n",
      "Data Type is: float64\n",
      "Shape is: (2, 2, 3)\n",
      "Total number of elements is: 12\n",
      "Number of dimensions is: 3\n"
     ]
    }
   ],
   "source": [
    "# Print the array's type, data type, shape, total number of elements, and number of dimensions\n",
    "print('Array Type is:', type(array_3d))\n",
    "print('Data Type is:', array_3d.dtype)\n",
    "print('Shape is:', array_3d.shape)\n",
    "print('Total number of elements is:', array_3d.size)\n",
    "print('Number of dimensions is:', array_3d.ndim)"
   ]
  },
  {
   "cell_type": "code",
   "execution_count": 45,
   "id": "63ee7764-0c49-467f-adc9-b12978906e12",
   "metadata": {},
   "outputs": [
    {
     "data": {
      "text/plain": [
       "array([[[[ 1.1,  2.1,  3.1],\n",
       "         [ 4.1,  5.1,  6.1]],\n",
       "\n",
       "        [[ 7.1,  8.1,  9.1],\n",
       "         [10.1, 11.1, 12.1]]]])"
      ]
     },
     "execution_count": 45,
     "metadata": {},
     "output_type": "execute_result"
    }
   ],
   "source": [
    "# Convert to 4D by adding a new axis\n",
    "array_4d = array_3d[np.newaxis, :]\n",
    "array_4d"
   ]
  },
  {
   "cell_type": "code",
   "execution_count": 47,
   "id": "e165496d-65b3-4773-a785-463988be2f02",
   "metadata": {},
   "outputs": [
    {
     "name": "stdout",
     "output_type": "stream",
     "text": [
      "Shape is : (1, 2, 2, 3)\n",
      "Number of dimensions is : 4\n"
     ]
    }
   ],
   "source": [
    "# Print shape and number of dimensions\n",
    "print(\"Shape is :\", array_4d.shape)\n",
    "print(\"Number of dimensions is :\", array_4d.ndim)"
   ]
  },
  {
   "cell_type": "code",
   "execution_count": 51,
   "id": "f7cf9ef5-a625-4aa6-8e12-0f114ac26d28",
   "metadata": {},
   "outputs": [
    {
     "data": {
      "text/plain": [
       "array([[[[ 1,  2,  3],\n",
       "         [ 4,  5,  6]],\n",
       "\n",
       "        [[ 7,  8,  9],\n",
       "         [10, 11, 12]]]])"
      ]
     },
     "execution_count": 51,
     "metadata": {},
     "output_type": "execute_result"
    }
   ],
   "source": [
    "# Convert the data type to integer\n",
    "array_int = array_4d.astype(int)\n",
    "\n",
    "# Print the new array\n",
    "array_int"
   ]
  },
  {
   "cell_type": "code",
   "execution_count": 56,
   "id": "6b033e4b-cc98-42ce-bd59-39664c1e5f3b",
   "metadata": {},
   "outputs": [
    {
     "name": "stdout",
     "output_type": "stream",
     "text": [
      "1\n",
      "2\n",
      "3\n",
      "4\n",
      "5\n",
      "6\n",
      "7\n",
      "8\n",
      "9\n",
      "10\n",
      "11\n",
      "12\n"
     ]
    }
   ],
   "source": [
    "# Iterate through all elements using nditer\n",
    "for x in np.nditer(array_int):\n",
    "    print(x)"
   ]
  },
  {
   "cell_type": "code",
   "execution_count": 70,
   "id": "518f9c1a-a18b-404e-a892-b3d32243cd10",
   "metadata": {},
   "outputs": [
    {
     "name": "stdout",
     "output_type": "stream",
     "text": [
      "Element 8: 8\n"
     ]
    }
   ],
   "source": [
    "# Print the 8th element (remember: Python uses 0-based indexing)\n",
    "print(\"Element 8:\", array_int.flat[7])"
   ]
  },
  {
   "cell_type": "code",
   "execution_count": 74,
   "id": "1a0df8fa-2d30-43b8-b49c-88339835eac6",
   "metadata": {},
   "outputs": [
    {
     "name": "stdout",
     "output_type": "stream",
     "text": [
      "Element 5 and 6: 5 6\n"
     ]
    }
   ],
   "source": [
    "# Print the 5th and 6th elements\n",
    "print(\"Element 5 and 6:\", array_int.flat[4], array_int.flat[5])"
   ]
  },
  {
   "cell_type": "code",
   "execution_count": 76,
   "id": "8a028145-b939-45b1-810f-273dc070b41e",
   "metadata": {},
   "outputs": [
    {
     "name": "stdout",
     "output_type": "stream",
     "text": [
      "Index of element 8: (array([0]), array([1]), array([0]), array([1]))\n"
     ]
    }
   ],
   "source": [
    "# Search for the value 8 in the array\n",
    "result = np.where(array_int == 8)\n",
    "print(\"Index of element 8:\", result)"
   ]
  },
  {
   "cell_type": "code",
   "execution_count": 78,
   "id": "600d3821-98cc-4e7c-ac1d-9400610c430d",
   "metadata": {},
   "outputs": [
    {
     "name": "stdout",
     "output_type": "stream",
     "text": [
      "Reshaped Array:\n",
      " [[[ 1  2]\n",
      "  [ 3  4]\n",
      "  [ 5  6]]\n",
      "\n",
      " [[ 7  8]\n",
      "  [ 9 10]\n",
      "  [11 12]]]\n"
     ]
    }
   ],
   "source": [
    "# Create a new array with the desired shape (2, 3, 2)\n",
    "reshaped_array = np.array([\n",
    "    [[1, 2],\n",
    "     [3, 4],\n",
    "     [5, 6]],\n",
    "\n",
    "    [[7, 8],\n",
    "     [9, 10],\n",
    "     [11, 12]]\n",
    "])\n",
    "\n",
    "print(\"Reshaped Array:\\n\", reshaped_array)"
   ]
  },
  {
   "cell_type": "code",
   "execution_count": 80,
   "id": "5d815ac0-6053-4521-b9d4-094887d15d59",
   "metadata": {},
   "outputs": [
    {
     "name": "stdout",
     "output_type": "stream",
     "text": [
      "Merged without specifying axis (default axis=0):\n",
      " [['A' 'B']\n",
      " ['E' 'F']\n",
      " ['C' 'D']\n",
      " ['G' 'H']]\n"
     ]
    }
   ],
   "source": [
    "arr1 = np.array([['A', 'B'], ['E', 'F']])\n",
    "arr2 = np.array([['C', 'D'], ['G', 'H']])\n",
    "\n",
    "# Merge arrays along the default axis (axis=0)\n",
    "merged_default = np.concatenate((arr1, arr2))\n",
    "print(\"Merged without specifying axis (default axis=0):\\n\", merged_default)"
   ]
  },
  {
   "cell_type": "code",
   "execution_count": 82,
   "id": "8778d70e-fcf4-4532-8620-c08ec8484952",
   "metadata": {},
   "outputs": [
    {
     "name": "stdout",
     "output_type": "stream",
     "text": [
      "Merged along axis=1:\n",
      " [['A' 'B' 'C' 'D']\n",
      " ['E' 'F' 'G' 'H']]\n"
     ]
    }
   ],
   "source": [
    "# Merge arrays horizontally (along axis=1)\n",
    "merged_axis1 = np.concatenate((arr1, arr2), axis=1)\n",
    "print(\"Merged along axis=1:\\n\", merged_axis1)"
   ]
  },
  {
   "cell_type": "code",
   "execution_count": 86,
   "id": "53cad4c0-50c1-4779-81e0-418a16642ba4",
   "metadata": {},
   "outputs": [
    {
     "name": "stdout",
     "output_type": "stream",
     "text": [
      "First split array:\n",
      " [['A' 'B']\n",
      " ['E' 'F']]\n",
      "Second split array:\n",
      " [['C' 'D']\n",
      " ['G' 'H']]\n"
     ]
    }
   ],
   "source": [
    "# Split the merged array horizontally into two arrays\n",
    "split1, split2 = np.split(merged_axis1, 2, axis=1)\n",
    "\n",
    "print(\"First split array:\\n\", split1)\n",
    "print(\"Second split array:\\n\", split2)"
   ]
  }
 ],
 "metadata": {
  "kernelspec": {
   "display_name": "Python [conda env:base] *",
   "language": "python",
   "name": "conda-base-py"
  },
  "language_info": {
   "codemirror_mode": {
    "name": "ipython",
    "version": 3
   },
   "file_extension": ".py",
   "mimetype": "text/x-python",
   "name": "python",
   "nbconvert_exporter": "python",
   "pygments_lexer": "ipython3",
   "version": "3.12.7"
  }
 },
 "nbformat": 4,
 "nbformat_minor": 5
}
